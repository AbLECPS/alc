{
 "cells": [
  {
   "cell_type": "code",
   "execution_count": 72,
   "metadata": {},
   "outputs": [],
   "source": [
    "import pandas as pd\n",
    "import numpy as np \n",
    "from utils import summarize_data"
   ]
  },
  {
   "cell_type": "markdown",
   "metadata": {},
   "source": [
    "# Analysis of Benchmark Data "
   ]
  },
  {
   "cell_type": "markdown",
   "metadata": {},
   "source": [
    "The benchmarking experiments were run on three different machines. A Dell XPS-15, DellPrecision 7520, NVIDIA Jetson TX2 4GB. The metrics reported in the paper come from those experiments."
   ]
  },
  {
   "cell_type": "markdown",
   "metadata": {},
   "source": [
    "## Load the Benchmark Files"
   ]
  },
  {
   "cell_type": "markdown",
   "metadata": {},
   "source": [
    "#### For logging Purposes"
   ]
  },
  {
   "cell_type": "code",
   "execution_count": 73,
   "metadata": {},
   "outputs": [],
   "source": [
    "total_e2e_sim = 0 \n",
    "total_rl_sim = 0\n",
    "total_e2e_hardware = 0 \n",
    "total_rl_hardware = 0"
   ]
  },
  {
   "cell_type": "code",
   "execution_count": 74,
   "metadata": {},
   "outputs": [],
   "source": [
    "e2e_data = pd.read_csv('e2ebenchmark1.csv',header=0)\n",
    "e2e_data2 = pd.read_csv('e2ebenchmark2.csv',header=0)\n",
    "e2e_data3 = pd.read_csv('e2ebenchmark3.csv',header=0)\n",
    "rl_data = pd.read_csv('rl_benchmark1.csv',header=0)\n",
    "rl_data2 = pd.read_csv('rl_benchmark2.csv',header=0)\n",
    "rl_data3 = pd.read_csv('rl_benchmark3.csv',header=0)"
   ]
  },
  {
   "cell_type": "markdown",
   "metadata": {},
   "source": [
    "### RL Experiments  Dell XPS 15, Experiment 1"
   ]
  },
  {
   "cell_type": "code",
   "execution_count": 75,
   "metadata": {},
   "outputs": [
    {
     "name": "stdout",
     "output_type": "stream",
     "text": [
      "\n",
      "lec usage %: 29.93  | safety_controller usage %: 70.07 | moet:  62.7 | mean_et: 34.0  | num_experiments:  49\n"
     ]
    }
   ],
   "source": [
    "total_rl_sim += summarize_data(rl_data,sep_str='')"
   ]
  },
  {
   "cell_type": "markdown",
   "metadata": {},
   "source": [
    "### RL Experiments Dell XPS 15, Experiment 2"
   ]
  },
  {
   "cell_type": "code",
   "execution_count": 76,
   "metadata": {},
   "outputs": [
    {
     "name": "stdout",
     "output_type": "stream",
     "text": [
      "\n",
      "lec usage %: 38.51  | safety_controller usage %: 61.49 | moet:  54.8 | mean_et: 38.9  | num_experiments:  76\n"
     ]
    }
   ],
   "source": [
    "total_rl_sim +=summarize_data(rl_data3,sep_str='')"
   ]
  },
  {
   "cell_type": "markdown",
   "metadata": {},
   "source": [
    "### RL Experiments Dell Precision 7520"
   ]
  },
  {
   "cell_type": "code",
   "execution_count": 77,
   "metadata": {},
   "outputs": [
    {
     "name": "stdout",
     "output_type": "stream",
     "text": [
      "\n",
      "lec usage %: 45.55  | safety_controller usage %: 54.45 | moet:  49.8 | mean_et: 30.5  | num_experiments:  60\n"
     ]
    }
   ],
   "source": [
    "total_rl_sim += summarize_data(rl_data2,sep_str='')"
   ]
  },
  {
   "cell_type": "markdown",
   "metadata": {},
   "source": [
    "### End-to-End Experiments  Dell XPS 15, Experiment 1"
   ]
  },
  {
   "cell_type": "code",
   "execution_count": 78,
   "metadata": {},
   "outputs": [
    {
     "name": "stdout",
     "output_type": "stream",
     "text": [
      "\n",
      "lec usage %: 13.94  | safety_controller usage %: 86.06 | moet:  60.4 | mean_et: 32.6  | num_experiments:  50\n"
     ]
    }
   ],
   "source": [
    "total_e2e_sim += summarize_data(e2e_data,sep_str='')"
   ]
  },
  {
   "cell_type": "markdown",
   "metadata": {},
   "source": [
    "### End-to-End Experiments  Dell XPS 15, Experiment 2"
   ]
  },
  {
   "cell_type": "code",
   "execution_count": 79,
   "metadata": {},
   "outputs": [
    {
     "name": "stdout",
     "output_type": "stream",
     "text": [
      "\n",
      "lec usage %: 14.91  | safety_controller usage %: 85.09 | moet:  46.0 | mean_et: 20.8  | num_experiments:  87\n"
     ]
    }
   ],
   "source": [
    "total_e2e_sim += summarize_data(e2e_data3,sep_str='')"
   ]
  },
  {
   "cell_type": "markdown",
   "metadata": {},
   "source": [
    "### End-to-End Experiments  Dell Precision 7520"
   ]
  },
  {
   "cell_type": "code",
   "execution_count": 80,
   "metadata": {},
   "outputs": [
    {
     "name": "stdout",
     "output_type": "stream",
     "text": [
      "\n",
      "lec usage %: 7.8  | safety_controller usage %: 92.2 | moet:  48.2 | mean_et: 27.9  | num_experiments:  64\n"
     ]
    }
   ],
   "source": [
    "total_e2e_sim = summarize_data(e2e_data2,sep_str='')"
   ]
  },
  {
   "cell_type": "markdown",
   "metadata": {},
   "source": [
    "# Hardware Experiments, Jetson TX2"
   ]
  },
  {
   "cell_type": "code",
   "execution_count": 81,
   "metadata": {},
   "outputs": [],
   "source": [
    "e2e_hw = pd.read_csv('e2e_hardware.csv',header=0)\n",
    "rl_hw = pd.read_csv('rl_hardware_becnhmark.csv',header=0)"
   ]
  },
  {
   "cell_type": "markdown",
   "metadata": {},
   "source": [
    "### End-to-End Controller"
   ]
  },
  {
   "cell_type": "code",
   "execution_count": 82,
   "metadata": {},
   "outputs": [
    {
     "name": "stdout",
     "output_type": "stream",
     "text": [
      "\n",
      "lec usage %: 3.97  | safety_controller usage %: 96.03 | moet:  42.6 | mean_et: 11.3  | num_experiments:  24\n"
     ]
    }
   ],
   "source": [
    "total_e2e_hardware +=summarize_data(e2e_hw,sep_str='')"
   ]
  },
  {
   "cell_type": "markdown",
   "metadata": {},
   "source": [
    "### Reinforcement Learning Controller"
   ]
  },
  {
   "cell_type": "code",
   "execution_count": 83,
   "metadata": {},
   "outputs": [
    {
     "name": "stdout",
     "output_type": "stream",
     "text": [
      "\n",
      "lec usage %: 5.3  | safety_controller usage %: 94.7 | moet:  40.8 | mean_et: 10.6  | num_experiments:  33\n"
     ]
    }
   ],
   "source": [
    "total_rl_hardware+=summarize_data(rl_hw,sep_str='')"
   ]
  },
  {
   "cell_type": "markdown",
   "metadata": {},
   "source": [
    "# Experiments Without Obstacles"
   ]
  },
  {
   "cell_type": "markdown",
   "metadata": {},
   "source": [
    "### Reinforcement Learning "
   ]
  },
  {
   "cell_type": "code",
   "execution_count": 84,
   "metadata": {},
   "outputs": [
    {
     "name": "stdout",
     "output_type": "stream",
     "text": [
      "\n",
      "lec usage %: 61.83  | safety_controller usage %: 38.17 | moet:  47.9 | mean_et: 31.0  | num_experiments:  52\n"
     ]
    }
   ],
   "source": [
    "rl_data = pd.read_csv('rl_no_obs_benchmark.csv',header=0)\n",
    "total_rl_sim += summarize_data(rl_data,sep_str='')"
   ]
  },
  {
   "cell_type": "markdown",
   "metadata": {},
   "source": [
    "### End-to-End Learning"
   ]
  },
  {
   "cell_type": "code",
   "execution_count": 85,
   "metadata": {},
   "outputs": [
    {
     "name": "stdout",
     "output_type": "stream",
     "text": [
      "\n",
      "lec usage %: 5.84  | safety_controller usage %: 94.16 | moet:  41.9 | mean_et: 19.3  | num_experiments:  57\n"
     ]
    }
   ],
   "source": [
    "e2e_data = pd.read_csv('e2e_no_obstacles.csv',header=0)\n",
    "total_e2e_sim += summarize_data(e2e_data,sep_str='')"
   ]
  },
  {
   "cell_type": "markdown",
   "metadata": {},
   "source": [
    "# Experiments With Variation in Obstacles, Speed and Walltime"
   ]
  },
  {
   "cell_type": "code",
   "execution_count": 86,
   "metadata": {},
   "outputs": [],
   "source": [
    "e0625 = pd.read_csv('e2e_no_obs_benchmark_06_25.csv',header=0)\n",
    "e1025 = pd.read_csv('e2e_no_obs_banchmark_10_25.csv',header=0)\n",
    "e1525 = pd.read_csv('e2e_no_obs_benchmark_15_25.csv',header=0)\n",
    "e0610 = pd.read_csv('e2e_no_obs_benchmark_06_10.csv',header=0)\n",
    "e1010 = pd.read_csv('e2e_no_obs_benchmark_10_10.csv',header=0)\n",
    "e1510 = pd.read_csv('e2e_no_obs_benchmark_15_10.csv',header=0)\n",
    "\n",
    "e0625_obs=pd.read_csv('e2e_obs_benchmark_06_25.csv',header=0)\n",
    "e1025_obs =pd.read_csv('e2ebenchmark2.csv',header = 0)\n",
    "e1525_obs=pd.read_csv('e2e_obs_benchmark_15_25.csv',header=0)\n",
    "e0610_obs = pd.read_csv('e2e_obs_benchmark_06_10.csv',header=0)\n",
    "e1010_obs = pd.read_csv('e2e_obs_benchmark_10_10.csv',header=0)\n",
    "e1510_obs = pd.read_csv('e2e_obs_benchmark_15_10.csv',header=0)\n",
    "\n",
    "\n",
    "r0625_obs= pd.read_csv('rl_obs_benchmark_06_25.csv',header=0)\n",
    "r1025_obs = pd.read_csv('rl_benchmark2.csv',header = 0)\n",
    "r1525_obs=pd.read_csv('rl_obs_benchmark_15_25.csv',header=0)\n",
    "r0610_obs = pd.read_csv('rl_obs_benchmark_06_10.csv',header=0)\n",
    "r1010_obs = pd.read_csv('rl_obs_benchmark_10_10.csv',header=0)\n",
    "r1510_obs = pd.read_csv('rl_obs_benchmark_15_10.csv',header=0)\n",
    "\n",
    "\n",
    "\n",
    "r0625 = pd.read_csv('rl_no_obs_benchmark_06_25.csv',header=0)\n",
    "r1025 = pd.read_csv('rl_no_obs_benchmark_10_25.csv',header=0)\n",
    "r1525 = pd.read_csv('rl_no_obs_benchmark_15_25.csv',header=0)\n",
    "r0610 = pd.read_csv('rl_no_obs_benchmark_06_10.csv',header=0)\n",
    "r1010 = pd.read_csv('rl_no_obs_benchmark_10_10.csv',header=0)\n",
    "r1510 = pd.read_csv('rl_no_obs_benchmark_15_10.csv',header=0)"
   ]
  },
  {
   "cell_type": "markdown",
   "metadata": {},
   "source": [
    "### End-to-End Experiments Without Obstacles "
   ]
  },
  {
   "cell_type": "code",
   "execution_count": 87,
   "metadata": {},
   "outputs": [
    {
     "name": "stdout",
     "output_type": "stream",
     "text": [
      "speed: 0.6ms, wall_time: 10ms\n",
      "\n",
      "lec usage %: 6.94  | safety_controller usage %: 93.06 | moet:  21.9 | mean_et: 12.5 \n",
      "============================================================================================ | num_experiments:  31\n",
      "speed: 1.0ms, wall_time: 10ms\n",
      "\n",
      "lec usage %: 6.24  | safety_controller usage %: 93.76 | moet:  21.7 | mean_et: 11.8 \n",
      "============================================================================================ | num_experiments:  52\n",
      "speed: 1.5ms, wall_time: 10ms\n",
      "\n",
      "lec usage %: 5.22  | safety_controller usage %: 94.78 | moet:  22.5 | mean_et: 10.2 \n",
      "============================================================================================ | num_experiments:  25\n",
      "speed: 0.6ms, wall_time: 25ms\n",
      "\n",
      "lec usage %: 10.26  | safety_controller usage %: 89.74 | moet:  40.3 | mean_et: 20.2 \n",
      "============================================================================================ | num_experiments:  33\n",
      "speed: 1.0ms, wall_time: 25ms\n",
      "\n",
      "lec usage %: 5.84  | safety_controller usage %: 94.16 | moet:  41.9 | mean_et: 19.3 \n",
      "============================================================================================ | num_experiments:  57\n",
      "speed: 1.5ms, wall_time: 25ms\n",
      "\n",
      "lec usage %: 5.17  | safety_controller usage %: 94.83 | moet:  41.1 | mean_et: 15.4 \n",
      "============================================================================================ | num_experiments:  25\n"
     ]
    }
   ],
   "source": [
    "print(\"speed: 0.6ms, wall_time: 10ms\")\n",
    "total_e2e_sim += summarize_data(e0610)\n",
    "print(\"speed: 1.0ms, wall_time: 10ms\")\n",
    "total_e2e_sim += summarize_data(e1010)\n",
    "print(\"speed: 1.5ms, wall_time: 10ms\")\n",
    "total_e2e_sim += summarize_data(e1510)\n",
    "print(\"speed: 0.6ms, wall_time: 25ms\")\n",
    "total_e2e_sim += summarize_data(e0625)\n",
    "print(\"speed: 1.0ms, wall_time: 25ms\")\n",
    "total_e2e_sim += summarize_data(e1025)\n",
    "print(\"speed: 1.5ms, wall_time: 25ms\")\n",
    "total_e2e_sim += summarize_data(e1525)\n",
    "\n"
   ]
  },
  {
   "cell_type": "markdown",
   "metadata": {},
   "source": [
    "### End-to-End Experiments With Obstacles "
   ]
  },
  {
   "cell_type": "code",
   "execution_count": 88,
   "metadata": {},
   "outputs": [
    {
     "name": "stdout",
     "output_type": "stream",
     "text": [
      "speed: 0.6ms, wall_time: 10ms\n",
      "\n",
      "lec usage %: 3.25  | safety_controller usage %: 96.75 | moet:  22.3 | mean_et: 12.4 \n",
      "============================================================================================ | num_experiments:  25\n",
      "speed: 1.0ms, wall_time: 10ms\n",
      "\n",
      "lec usage %: 3.93  | safety_controller usage %: 96.07 | moet:  22.0 | mean_et: 11.7 \n",
      "============================================================================================ | num_experiments:  27\n",
      "speed: 1.5ms, wall_time: 10ms\n",
      "\n",
      "lec usage %: 4.75  | safety_controller usage %: 95.25 | moet:  21.5 | mean_et: 12.3 \n",
      "============================================================================================ | num_experiments:  26\n",
      "speed: 0.6ms, wall_time: 25ms\n",
      "\n",
      "lec usage %: 4.5  | safety_controller usage %: 95.5 | moet:  44.1 | mean_et: 20.6 \n",
      "============================================================================================ | num_experiments:  25\n",
      "speed: 1.0ms, wall_time: 25ms\n",
      "\n",
      "lec usage %: 7.8  | safety_controller usage %: 92.2 | moet:  48.2 | mean_et: 27.9 \n",
      "============================================================================================ | num_experiments:  64\n",
      "speed: 1.5ms, wall_time: 25ms\n",
      "\n",
      "lec usage %: 4.51  | safety_controller usage %: 95.49 | moet:  43.0 | mean_et: 20.9 \n",
      "============================================================================================ | num_experiments:  29\n"
     ]
    }
   ],
   "source": [
    "print(\"speed: 0.6ms, wall_time: 10ms\")\n",
    "total_e2e_sim +=summarize_data(e0610_obs)\n",
    "print(\"speed: 1.0ms, wall_time: 10ms\")\n",
    "total_e2e_sim +=summarize_data(e1010_obs)\n",
    "print(\"speed: 1.5ms, wall_time: 10ms\")\n",
    "total_e2e_sim +=summarize_data(e1510_obs)\n",
    "\n",
    "\n",
    "print(\"speed: 0.6ms, wall_time: 25ms\")\n",
    "total_e2e_sim +=summarize_data(e0625_obs)\n",
    "print(\"speed: 1.0ms, wall_time: 25ms\")\n",
    "total_e2e_sim +=summarize_data(e1025_obs)\n",
    "print(\"speed: 1.5ms, wall_time: 25ms\")\n",
    "total_e2e_sim +=summarize_data(e1525_obs)"
   ]
  },
  {
   "cell_type": "markdown",
   "metadata": {},
   "source": [
    "### RL Experiments With Obstacles"
   ]
  },
  {
   "cell_type": "code",
   "execution_count": 89,
   "metadata": {},
   "outputs": [
    {
     "name": "stdout",
     "output_type": "stream",
     "text": [
      "speed: 0.6ms, wall_time: 10ms\n",
      "\n",
      "lec usage %: 44.83  | safety_controller usage %: 55.17 | moet:  20.7 | mean_et: 13.1 \n",
      "============================================================================================ | num_experiments:  32\n",
      "speed: 1.0ms, wall_time: 10ms\n",
      "\n",
      "lec usage %: 43.31  | safety_controller usage %: 56.69 | moet:  20.1 | mean_et: 13.3 \n",
      "============================================================================================ | num_experiments:  29\n",
      "speed: 1.5ms, wall_time: 10ms\n",
      "\n",
      "lec usage %: 3.71  | safety_controller usage %: 96.29 | moet:  21.1 | mean_et: 12.6 \n",
      "============================================================================================ | num_experiments:  31\n",
      "speed: 0.6ms, wall_time: 25ms\n",
      "\n",
      "lec usage %: 45.34  | safety_controller usage %: 54.66 | moet:  48.7 | mean_et: 29.8 \n",
      "============================================================================================ | num_experiments:  29\n",
      "speed: 1.0ms, wall_time: 25ms\n",
      "\n",
      "lec usage %: 45.55  | safety_controller usage %: 54.45 | moet:  49.8 | mean_et: 30.5 \n",
      "============================================================================================ | num_experiments:  60\n",
      "speed: 1.5ms, wall_time: 25ms\n",
      "\n",
      "lec usage %: 1.89  | safety_controller usage %: 98.11 | moet:  49.2 | mean_et: 26.4 \n",
      "============================================================================================ | num_experiments:  25\n"
     ]
    }
   ],
   "source": [
    "print(\"speed: 0.6ms, wall_time: 10ms\")\n",
    "total_rl_sim += summarize_data(r0610_obs)\n",
    "print(\"speed: 1.0ms, wall_time: 10ms\")\n",
    "total_rl_sim += summarize_data(r1010_obs)\n",
    "print(\"speed: 1.5ms, wall_time: 10ms\")\n",
    "total_rl_sim += summarize_data(r1510_obs)\n",
    "\n",
    "print(\"speed: 0.6ms, wall_time: 25ms\")\n",
    "total_rl_sim += summarize_data(r0625_obs)\n",
    "print(\"speed: 1.0ms, wall_time: 25ms\")\n",
    "total_rl_sim += summarize_data(r1025_obs)\n",
    "print(\"speed: 1.5ms, wall_time: 25ms\")\n",
    "total_rl_sim += summarize_data(r1525_obs)"
   ]
  },
  {
   "cell_type": "markdown",
   "metadata": {},
   "source": [
    "### RL Experiements Without Obstacles"
   ]
  },
  {
   "cell_type": "code",
   "execution_count": 90,
   "metadata": {},
   "outputs": [
    {
     "name": "stdout",
     "output_type": "stream",
     "text": [
      "speed: 0.6ms, wall_time: 10ms\n",
      "\n",
      "lec usage %: 57.63  | safety_controller usage %: 42.37 | moet:  19.8 | mean_et: 13.5 \n",
      "============================================================================================ | num_experiments:  26\n",
      "speed: 1.0ms, wall_time: 10ms\n",
      "\n",
      "lec usage %: 62.92  | safety_controller usage %: 37.08 | moet:  19.3 | mean_et: 13.0 \n",
      "============================================================================================ | num_experiments:  26\n",
      "speed: 1.5ms, wall_time: 10ms\n",
      "\n",
      "lec usage %: 3.02  | safety_controller usage %: 96.98 | moet:  22.8 | mean_et: 13.5 \n",
      "============================================================================================ | num_experiments:  25\n",
      "speed: 0.6ms, wall_time: 25ms\n",
      "\n",
      "lec usage %: 56.9  | safety_controller usage %: 43.1 | moet:  49.3 | mean_et: 29.8 \n",
      "============================================================================================ | num_experiments:  65\n",
      "speed: 1.0ms, wall_time: 25ms\n",
      "\n",
      "lec usage %: 61.83  | safety_controller usage %: 38.17 | moet:  47.9 | mean_et: 31.0 \n",
      "============================================================================================ | num_experiments:  52\n",
      "speed: 1.5ms, wall_time: 25ms\n",
      "\n",
      "lec usage %: 4.67  | safety_controller usage %: 95.33 | moet:  49.8 | mean_et: 29.6 \n",
      "============================================================================================ | num_experiments:  26\n"
     ]
    }
   ],
   "source": [
    "print(\"speed: 0.6ms, wall_time: 10ms\")\n",
    "total_rl_sim += summarize_data(r0610)\n",
    "\n",
    "print(\"speed: 1.0ms, wall_time: 10ms\")\n",
    "total_rl_sim += summarize_data(r1010)\n",
    "\n",
    "print(\"speed: 1.5ms, wall_time: 10ms\")\n",
    "total_rl_sim += summarize_data(r1510)\n",
    "\n",
    "print(\"speed: 0.6ms, wall_time: 25ms\")\n",
    "total_rl_sim += summarize_data(r0625)\n",
    "\n",
    "print(\"speed: 1.0ms, wall_time: 25ms\")\n",
    "total_rl_sim += summarize_data(r1025)\n",
    "\n",
    "print(\"speed: 1.5ms, wall_time: 25ms\")\n",
    "total_rl_sim += summarize_data(r1525)"
   ]
  },
  {
   "cell_type": "markdown",
   "metadata": {},
   "source": [
    "# Total Simulation Experiments"
   ]
  },
  {
   "cell_type": "code",
   "execution_count": 91,
   "metadata": {},
   "outputs": [
    {
     "name": "stdout",
     "output_type": "stream",
     "text": [
      "RL Experiments: 663\n",
      "E2E Experiments: 540\n",
      "Total Sim Experiments:  1203\n"
     ]
    }
   ],
   "source": [
    "print(\"RL Experiments:\",total_rl_sim)\n",
    "print(\"E2E Experiments:\",total_e2e_sim)\n",
    "print(\"Total Sim Experiments: \",total_rl_sim+total_e2e_sim)"
   ]
  }
 ],
 "metadata": {
  "kernelspec": {
   "display_name": "Python 3",
   "language": "python",
   "name": "python3"
  },
  "language_info": {
   "codemirror_mode": {
    "name": "ipython",
    "version": 3
   },
   "file_extension": ".py",
   "mimetype": "text/x-python",
   "name": "python",
   "nbconvert_exporter": "python",
   "pygments_lexer": "ipython3",
   "version": "3.6.8"
  }
 },
 "nbformat": 4,
 "nbformat_minor": 2
}
