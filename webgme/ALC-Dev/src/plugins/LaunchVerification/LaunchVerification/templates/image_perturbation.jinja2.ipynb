{
 "cells": [
  {
   "cell_type": "code",
   "execution_count": null,
   "metadata": {},
   "outputs": [],
   "source": [
    "% Inputs/variables/parameters defined by user\n",
    "% 1) Path to controller\n",
    "% 2) Path to image\n",
    "% 3) mean (normalize image)\n",
    "% 4) std (normalize image)\n",
    "% 5) threshold to apply attack\n",
    "% 6) delta = percentage of attack\n",
    "% 7) reach-method = 'approx-star' or 'exact-star'"
   ]
  },
  {
   "cell_type": "code",
   "execution_count": null,
   "metadata": {},
   "outputs": [],
   "source": [
    "addpath({% for function_path in function_path_list %}'{{ function_path }}'{{ ', ' if not loop.last }}{% endfor %})"
   ]
  },
  {
   "cell_type": "code",
   "execution_count": null,
   "metadata": {},
   "outputs": [],
   "source": [
    "%% Load network\n",
    "net = load('{{ cnn_path }}'); % net = load('vgg16nnv.mat'); % Load network\n",
    "net = struct2cell(net);\n",
    "net = net{1};"
   ]
  },
  {
   "cell_type": "code",
   "execution_count": null,
   "metadata": {},
   "outputs": [],
   "source": [
    "%% Set parameter values\n",
    "dataStruct = struct({% for name, value in structure_data_map.items() %}{{ name }}, {{value}}{{ ', ' if not loop.last }}{% endfor %});\n",
    "std = {{ std }}; % one value or vector with one value for each channel \n",
    "mean = {{ mean }}; % One value if greyscale, vector of lebgth three,  one for each channel\n",
    "reach_method = '{{ method }}'; % 'approx-star' or 'exact-star'"
   ]
  },
  {
   "cell_type": "code",
   "execution_count": null,
   "metadata": {},
   "outputs": [],
   "source": [
    "robustness_results_file_name = 'robustness_results.csv'\n",
    "perImageFunction = {{ image_perturbation_function }}(dataStruct);\n",
    "success_map = testImages(net, '{{ image_data_file_path }}', perImageFunction, reach_method, mean, std, robustness_results_file_name);"
   ]
  },
  {
   "cell_type": "code",
   "execution_count": null,
   "metadata": {},
   "outputs": [],
   "source": [
    "image_file = transpose(string(keys(success_map)));\n",
    "robustness = transpose(cell2mat(values(success_map)));\n",
    "T = table(image_file, robustness)"
   ]
  },
  {
   "cell_type": "code",
   "execution_count": null,
   "metadata": {},
   "outputs": [],
   "source": [
    "% Execute this cell to recover robustness results for further examination\n",
    "success_map = readResults(robustness_results_file_name)"
   ]
  }
 ],
 "metadata": {
  "kernelspec": {
   "display_name": "Matlab",
   "language": "matlab",
   "name": "matlab"
  },
  "language_info": {
   "codemirror_mode": "octave",
   "file_extension": ".m",
   "help_links": [
    {
     "text": "MetaKernel Magics",
     "url": "https://metakernel.readthedocs.io/en/latest/source/README.html"
    }
   ],
   "mimetype": "text/x-octave",
   "name": "matlab",
   "version": "0.16.9"
  }
 },
 "nbformat": 4,
 "nbformat_minor": 2
}
