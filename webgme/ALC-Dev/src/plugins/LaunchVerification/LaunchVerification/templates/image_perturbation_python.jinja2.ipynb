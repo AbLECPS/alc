{
 "cells": [
  {
   "cell_type": "markdown",
   "metadata": {},
   "source": [
    "<p style=\"text-align:center;font-size: 24px;\">ROBUSTNESS TEST</p><br/>\n",
    "<span style=\"font-size:16px\">The table at the bottom of this page shows the results of running a robustness test against a perception LEC using one or more specified images.  Each row in the table shows the name of an image, its proper category, and whether the LEC is able to properly categorize the image given a particular type of attack.</span>"
   ]
  },
  {
   "cell_type": "markdown",
   "metadata": {},
   "source": [
    "<table class=\"robustness-test\">\n",
    "  <tr><th colspan=\"2\" class=\"robustness-title\">Robustness Test For:</th></tr>\n",
    "  <tr><td class=\"robustness-name\">project</td><td class=\"robustness-entry\">{{ project_name }}</td></tr>\n",
    "  <tr><td class=\"robustness-name\">owner</td><td class=\"robustness-entry\">{{ owner_name }}</td></tr>\n",
    "  <tr><td class=\"robustness-name\">model</td><td class=\"robustness-entry\">{{ active_node_named_path }} (id {{ active_node_path }})</td></tr>\n",
    "  <tr><td class=\"robustness-name\">LEC</td><td class=\"robustness-entry\">{{ input_lec_file_name }}</td></tr>\n",
    "</table>"
   ]
  },
  {
   "cell_type": "markdown",
   "metadata": {},
   "source": [
    "<p style=\"text-align:center;font-size: 20px;\">LEC</p><br/>\n",
    "The LEC being tested ({{ input_lec_file_name }}) is taken from the \"{{ input_lec_attribute_name }}\" attribute of the {{ input_lec_node_named_path }} (id {{ input_lec_node_path }}) model node."
   ]
  },
  {
   "cell_type": "markdown",
   "metadata": {},
   "source": [
    "<p style=\"text-align:center;font-size: 20px;\">Training Data</p><br/>\n",
    "The data for training the LEC is needed to calculate the mean and standard-deviation of its pixel values.  This is needed for the robustness testing.  If the data has color channels, a mean and standard deviation needs to be calculated for each channel (usually 3:  Red, Green, Blue in that order).\n",
    "\n",
    "The training data file ({{ input_training_data_file_name }}) is taken from the \"{{ input_training_data_attribute_name }}\" attribute of the {{ input_training_data_node_named_path }} (id {{ input_training_data_node_path }}) model node.\n",
    "\n",
    "The calculated mean and standard deviation are as follows:\n",
    "* mean = {{ mean }}\n",
    "* standard-deviation = {{ standard_deviation }}"
   ]
  },
  {
   "cell_type": "markdown",
   "metadata": {},
   "source": [
    "<p style=\"text-align:center;font-size: 20px;\">Test Images</p><br/>\n",
    "The testing data file ({{ input_verification_data_file_name }}) is taken from the \"{{ input_verification_data_attribute_name }}\" attribute of the {{ input_verification_data_node_named_path }} (id {{ input_verification_data_node_path }}) model node.\n",
    "\n",
    "This file contains the images that are used to test the LEC for robustness."
   ]
  },
  {
   "cell_type": "markdown",
   "metadata": {},
   "source": [
    "Attack Parameters\n",
    "The follow attack parameters were specified in the model:\n",
    "<table class=\"parameter-table\">\n",
    "    <tr>\n",
    "        <th class=\"parameter-name-title\">Parameter Name</th>\n",
    "        <th class=\"parameter-value-title\">Parameter Value</th>\n",
    "    </tr>\n",
    "{% for name,value in parameter_map.items() %}    <tr>\n",
    "        <td class=\"parameter-name\">{{ name }}</td>\n",
    "        <td class=\"parameter-value\">{{ value }}</td>\n",
    "    </tr>\n",
    "{% endfor %}</table>"
   ]
  },
  {
   "cell_type": "code",
   "execution_count": null,
   "metadata": {
    "tags": [
     "execute_cell",
     "source_replace"
    ]
   },
   "outputs": [],
   "source": [
    "%%html\n",
    "<script>\n",
    "    // AUTORUN ALL CELLS ON NOTEBOOK-LOAD!\n",
    "    require(\n",
    "        ['base/js/namespace', 'jquery'], \n",
    "        function(jupyter, $) {\n",
    "            $(jupyter.events).on(\"kernel_ready.Kernel\", function () {\n",
    "                console.log(\"Auto-running all cells-below...\");\n",
    "                jupyter.actions.call('jupyter-notebook:run-all-cells-below');\n",
    "                jupyter.actions.call('jupyter-notebook:save-notebook');\n",
    "            });\n",
    "        }\n",
    "    );\n",
    "</script>"
   ]
  },
  {
   "cell_type": "code",
   "execution_count": null,
   "metadata": {},
   "outputs": [],
   "source": [
    "%autosave 0"
   ]
  },
  {
   "cell_type": "code",
   "execution_count": null,
   "metadata": {},
   "outputs": [],
   "source": [
    "import os\n",
    "import sys\n",
    "from pathlib import Path\n",
    "sys.path.append(str(Path(os.getenv('ALC_HOME'),'webgme/ALC-Dev/src/plugins/LaunchVerification')))\n",
    "from PresentResults import PresentResults\n",
    "present_results = PresentResults('{{ results_file_name }}')"
   ]
  },
  {
   "cell_type": "code",
   "execution_count": null,
   "metadata": {},
   "outputs": [],
   "source": [
    "results_list = present_results.get_results_list()"
   ]
  },
  {
   "cell_type": "code",
   "execution_count": null,
   "metadata": {},
   "outputs": [],
   "source": [
    "present_results.get_style()\n",
    "present_results.present_results(results_list)"
   ]
  }
 ],
 "metadata": {
  "kernelspec": {
   "display_name": "Python 3",
   "language": "python",
   "name": "python3"
  },
  "language_info": {
   "codemirror_mode": {
    "name": "ipython",
    "version": 3
   },
   "file_extension": ".py",
   "mimetype": "text/x-python",
   "name": "python",
   "nbconvert_exporter": "python",
   "pygments_lexer": "ipython3",
   "version": "3.7.4"
  }
 },
 "nbformat": 4,
 "nbformat_minor": 4
}
