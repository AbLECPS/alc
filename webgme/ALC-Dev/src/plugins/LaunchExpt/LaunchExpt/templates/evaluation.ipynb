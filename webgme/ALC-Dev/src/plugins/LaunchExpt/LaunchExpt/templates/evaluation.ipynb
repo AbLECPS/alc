{
 "cells": [
  {
   "cell_type": "code",
   "execution_count": null,
   "metadata": {
    "collapsed": true
   },
   "outputs": [],
   "source": [
    "import sys\n",
    "import os\n",
    "import json"
   ]
  },
  {
   "cell_type": "code",
   "execution_count": null,
   "metadata": {},
   "outputs": [],
   "source": [
    "eval_data_file = '{{model_data_folder}}/eval_data.json'\n",
    "val_data_file  = '{{model_data_folder}}/val_data.json'\n",
    "lec_data_file  = '{{model_data_folder}}/lec_data.json'\n"
    ]
  },
  {
   "cell_type": "code",
   "execution_count": null,
   "metadata": {},
   "outputs": [],
   "source": [
    "eval_data = {}\n",
    "with open(eval_data_file) as json_file:\n",
    "    eval_data  = json.load(json_file)"
    ]
  },
  {
   "cell_type": "code",
   "execution_count": null,
   "metadata": {},
   "outputs": [],
   "source": [
    "val_data = {}\n",
    "with open(val_data_file) as json_file:\n",
    "    val_data  = json.load(json_file)"
    ]
  },
  {
   "cell_type": "code",
   "execution_count": null,
   "metadata": {},
   "outputs": [],
   "source": [
    "lec_data = {}\n",
    "with open(lec_data_file) as json_file:\n",
    "    lec_data  = json.load(json_file)"
    ]
  }{% if post_process == 1  %},
  {
   "cell_type": "code",
   "execution_count": null,
   "metadata": {
    "scrolled": false
   },
   "outputs": [],
   "source": [
    "%matplotlib inline\n","%load ./ModelData/PostProcess/PostProcess.py"
   ]
  }{% endif %},
  {
   "cell_type": "code",
   "execution_count": null,
   "metadata": {},
   "outputs": [],
   "source": [
    "## write your code here"
    ]
  }
 ],
 "metadata": {
  "kernelspec": {
   "display_name": "Python 2",
   "language": "python",
   "name": "python2"
  },
  "language_info": {
   "codemirror_mode": {
    "name": "ipython",
    "version": 2
   },
   "file_extension": ".py",
   "mimetype": "text/x-python",
   "name": "python",
   "nbconvert_exporter": "python",
   "pygments_lexer": "ipython2",
   "version": "2.7.12"
  }
 },
 "nbformat": 4,
 "nbformat_minor": 2
}
